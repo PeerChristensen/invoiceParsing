{
  "nbformat": 4,
  "nbformat_minor": 0,
  "metadata": {
    "colab": {
      "name": "FSC-certificeringer.ipynb",
      "provenance": [],
      "collapsed_sections": [],
      "authorship_tag": "ABX9TyPp5Pm679Ho8834mKLWY7dr",
      "include_colab_link": true
    },
    "kernelspec": {
      "name": "python3",
      "display_name": "Python 3"
    },
    "language_info": {
      "name": "python"
    }
  },
  "cells": [
    {
      "cell_type": "markdown",
      "metadata": {
        "id": "view-in-github",
        "colab_type": "text"
      },
      "source": [
        "<a href=\"https://colab.research.google.com/github/PeerChristensen/invoiceParsing/blob/main/FSC_certificeringer.ipynb\" target=\"_parent\"><img src=\"https://colab.research.google.com/assets/colab-badge.svg\" alt=\"Open In Colab\"/></a>"
      ]
    },
    {
      "cell_type": "markdown",
      "metadata": {
        "id": "E9aGkyzNoT5d"
      },
      "source": [
        "# FSC-certificeringer fra fakturaer i .edi- og .xml-formater"
      ]
    },
    {
      "cell_type": "code",
      "metadata": {
        "id": "bauFrCZBfZvN"
      },
      "source": [
        "!pip3 install --upgrade pandas\n",
        "from bs4 import BeautifulSoup as bs4\n",
        "import pandas as pd\n",
        "import re\n",
        "import os\n",
        "\n",
        "path = \"files\"\n",
        "file_names = os.listdir(path)\n",
        "files = [os.path.join(path,i) for i in file_names]\n",
        "for i in files:\n",
        "    print(i)"
      ],
      "execution_count": null,
      "outputs": []
    },
    {
      "cell_type": "markdown",
      "metadata": {
        "id": "awYSK5EUosom"
      },
      "source": [
        "## Top-level funktion"
      ]
    },
    {
      "cell_type": "code",
      "metadata": {
        "id": "bM6qv-Xtf8Gd"
      },
      "source": [
        "def parse_all_files(files: list) -> pd.DataFrame:\n",
        "\n",
        "    edi_files = [i for i in files if i.endswith('.edi')]\n",
        "    xml_files = [i for i in files if i.endswith('.xml')]\n",
        "\n",
        "    edi_data = parse_edi_files(edi_files)\n",
        "    xml_data = parse_xml_files(xml_files)\n",
        "\n",
        "    list_of_dfs = [edi_data, xml_data]\n",
        "\n",
        "    stacked_df = pd.concat(list_of_dfs)\n",
        "    return stacked_df"
      ],
      "execution_count": 2,
      "outputs": []
    },
    {
      "cell_type": "markdown",
      "metadata": {
        "id": "HwrxM_k7ox_y"
      },
      "source": [
        "## Funktioner til processering af .edi-filer\n",
        "\n",
        "\n",
        "\n",
        "\n"
      ]
    },
    {
      "cell_type": "code",
      "metadata": {
        "id": "kGL73GoPf-r9"
      },
      "source": [
        "def get_edi_content(file: str) -> list:\n",
        "\n",
        "    content = open(file, \"r\", encoding=\"latin1\").read()\n",
        "    content_list = content.split(\"'\")\n",
        "    return content_list\n",
        "\n",
        "\n",
        "def get_creditor_gln(content: list) -> str:\n",
        "    \"\"\"\n",
        "    Get Creditor GLN from edifact file\n",
        "    Q: Does the relevant element always start with \"UNB+UNOC:3+\n",
        "    Q: Is this the same as Creditor number\"\n",
        "    \"\"\"\n",
        "    for i in content:\n",
        "        if i.startswith('UNB+UNOC'):\n",
        "            creditor_gln__string = i\n",
        "            break\n",
        "    creditor_gln = re.search('UNB\\\\+UNOC:3\\\\+(.*?)\\\\:', creditor_gln__string).group(1)\n",
        "    return creditor_gln\n",
        "\n",
        "\n",
        "def get_invoice_no(content: list) -> str:\n",
        "    \"\"\"Get invoice number from edifact file\n",
        "    \"\"\"\n",
        "    for i in content:\n",
        "        if i.startswith('BGM+380+'):\n",
        "            invoice_string = i\n",
        "            break\n",
        "    invoice_no = re.search('BGM\\\\+380\\\\+(.*?)\\\\+9', invoice_string).group(1)\n",
        "    return invoice_no\n",
        "\n",
        "\n",
        "def get_barcodes(content: list) -> list:\n",
        "\n",
        "    barcode_lines = [i for i in content if i.startswith(\"LIN\")]\n",
        "    barcodes = []\n",
        "    for line in barcode_lines:\n",
        "        barcode = re.search('\\\\+\\\\+(.*?)\\\\:', line).group(1)\n",
        "        barcodes.append(barcode)\n",
        "    return barcodes\n",
        "\n",
        "\n",
        "def get_name_and_fsc(content: list) -> list:\n",
        "\n",
        "    name_and_fsc_lines = [i for i in content if i.startswith(\"IMD+F+\")]\n",
        "    name_and_fsc_list = []\n",
        "    for line in name_and_fsc_lines:\n",
        "        name_and_fsc = re.search(':::(.*)', line).group(1)\n",
        "        name_and_fsc_list.append(name_and_fsc)\n",
        "    return name_and_fsc_list\n",
        "\n",
        "\n",
        "def make_df_from_edi_file(file: str) -> pd.DataFrame:\n",
        "    \"\"\"\n",
        "    This function calls various helper functions to create a dataframe after parsing\n",
        "    the relevant content from .edi files.\n",
        "    \"\"\"\n",
        "    content = get_edi_content(file)            # get content\n",
        "    cred_gln_no = get_creditor_gln(content)    # get creditor GLN number\n",
        "    inv_no = get_invoice_no(content)           # get invoice number\n",
        "    barcodes = get_barcodes(content)           # get barcodes\n",
        "    names_and_fsc = get_name_and_fsc(content)  # get names and FSC codes\n",
        "\n",
        "    df = pd.DataFrame({\"CreditorGLN\": [cred_gln_no],\n",
        "                       \"InvoiceNum\": [inv_no],\n",
        "                       \"Barcode\": [barcodes],\n",
        "                       \"ProductNameFSC\": [names_and_fsc]})\n",
        "\n",
        "    df = df.explode([\"Barcode\", \"ProductNameFSC\"]).reset_index(drop=True)\n",
        "    return df\n",
        "\n",
        "\n",
        "def parse_edi_files(files: list) -> pd.DataFrame:\n",
        "\n",
        "    list_of_dfs = []\n",
        "    for file in files:\n",
        "        df = make_df_from_edi_file(file)\n",
        "        list_of_dfs.append(df)\n",
        "\n",
        "    stacked_df = pd.concat(list_of_dfs)\n",
        "    return stacked_df"
      ],
      "execution_count": 3,
      "outputs": []
    },
    {
      "cell_type": "markdown",
      "metadata": {
        "id": "Dv1NC2N7o8uD"
      },
      "source": [
        "## Funktioner til processering af .xml-filer\n"
      ]
    },
    {
      "cell_type": "code",
      "metadata": {
        "id": "QVu3-YXagAwX"
      },
      "source": [
        "def get_xml_content(file: str) -> bs4:\n",
        "\n",
        "    content = open(file, \"r\", encoding=\"utf8\").read()\n",
        "    soup = bs4(content, \"xml\")\n",
        "    return soup\n",
        "\n",
        "\n",
        "def get_creditor_gln_xml(soup: bs4) -> int:\n",
        "    \"\"\"Get Creditor GLN from xml file\"\"\"\n",
        "    acp_tag = soup.find(\"cac:AccountingCustomerParty\")\n",
        "    creditor_gln = acp_tag.PartyIdentification.ID.text\n",
        "    return creditor_gln\n",
        "\n",
        "\n",
        "def get_invoice_no_xml(soup: bs4) -> str:\n",
        "    \"\"\"Get invoice number from xml file\"\"\"\n",
        "    invoice_no = soup.find(\"cbc:ID\").text\n",
        "    return invoice_no\n",
        "\n",
        "\n",
        "def get_items_xml(soup: bs4) -> bs4:\n",
        "    items = soup.findAll(\"cac:Item\")\n",
        "    return items\n",
        "\n",
        "\n",
        "def get_barcodes_xml(items: bs4) -> list:\n",
        "    barcodes = []\n",
        "    for i in items:\n",
        "        try:\n",
        "            barcodes.append(i.ID.text)\n",
        "        except:\n",
        "            barcodes.append(\"\")\n",
        "    return barcodes\n",
        "\n",
        "\n",
        "def get_name_and_fsc_xml(items: bs4) -> list:\n",
        "    items_descriptions = []\n",
        "    for i in items:\n",
        "        try:\n",
        "            items_descriptions.append(i.Description.text)\n",
        "        except:\n",
        "            items_descriptions.append(\"\")\n",
        "    return items_descriptions\n",
        "\n",
        "\n",
        "def make_df_from_xml_file(file: str) -> pd.DataFrame:\n",
        "    \"\"\"\n",
        "    This function calls various helper functions to create a dataframe after parsing\n",
        "    the relevant content from .xml files.\n",
        "    \"\"\"\n",
        "    content = get_xml_content(file)                # get content\n",
        "    cred_gln_no = get_creditor_gln_xml(content)    # get creditor GLN number\n",
        "    inv_no = get_invoice_no_xml(content)           # get invoice number\n",
        "    items = get_items_xml(content)                         # get items\n",
        "    barcodes = get_barcodes_xml(items)           # get barcodes\n",
        "    names_and_fsc = get_name_and_fsc_xml(items)  # get names and FSC codes\n",
        "\n",
        "    df = pd.DataFrame({\"CreditorGLN\": [cred_gln_no],\n",
        "                       \"InvoiceNum\": [inv_no],\n",
        "                       \"Barcode\": [barcodes],\n",
        "                       \"ProductNameFSC\": [names_and_fsc]})\n",
        "\n",
        "    df = df.explode([\"Barcode\", \"ProductNameFSC\"]).reset_index(drop=True)\n",
        "    return df\n",
        "\n",
        "\n",
        "def parse_xml_files(files: list) -> pd.DataFrame:\n",
        "\n",
        "    list_of_dfs = []\n",
        "    for file in files:\n",
        "        df = make_df_from_xml_file(file)\n",
        "        list_of_dfs.append(df)\n",
        "\n",
        "    stacked_df = pd.concat(list_of_dfs)\n",
        "    return stacked_df"
      ],
      "execution_count": 4,
      "outputs": []
    },
    {
      "cell_type": "markdown",
      "metadata": {
        "id": "DiKgUXyipAvE"
      },
      "source": [
        "## Output i tabelformat"
      ]
    },
    {
      "cell_type": "code",
      "metadata": {
        "id": "X-R4iDFUgCsj"
      },
      "source": [
        "df = parse_all_files(files)\n",
        "\n",
        "pd.set_option('display.max_rows', None)\n",
        "pd.set_option('display.max_columns', None)\n",
        "pd.set_option('display.width', 1000)\n",
        "pd.set_option('display.colheader_justify', 'center')\n",
        "pd.set_option('display.precision', 3)\n",
        "\n",
        "display(df)"
      ],
      "execution_count": null,
      "outputs": []
    }
  ]
}